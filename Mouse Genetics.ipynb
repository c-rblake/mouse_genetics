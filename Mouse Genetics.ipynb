{
 "cells": [
  {
   "cell_type": "markdown",
   "metadata": {},
   "source": [
    "# Poisson distribution and PCA analysis of genes in Mice\n",
    "\n",
    "Here we explore natural and perturbed mice generated with a Poisson distribution.\n",
    "\n",
    "Of course, one can wonder about the naturality of mice versus wild mice. Are they breed in a lab and natural? Would a lab-breed human be a natural human? Is the distance from a wild mouse to a lab mouse important?\n",
    "\n",
    "Furthermore, what are perturbations? Well, it is a change enforced by an experiment. Perhaps we knock out a single Mendelian gene and our mouse no longer gets Hay fever in the spring. We find to our horror that our mice are susceptible to cat bites and decide through bacterial yogurt technology to alter our mice with added armor, lots of hard scaled dragon-like armor.  \n",
    "\n",
    "#Feel Free to Skip ahead to the code. There is a short intro about the distribution used. Then code with comments and conclusions and recommendations."
   ]
  },
  {
   "cell_type": "markdown",
   "metadata": {},
   "source": [
    "# The Poisson distribution\n",
    "\n",
    "The Poisson distribution deals with the number of occurrences in a fixed time.\n",
    "\n",
    "In Poisson Ville, the arrival times of busses are independent of when the previous bus came. A Poisson process consists of events that have no memory and are independent of when the last event happened. \n",
    "\n",
    "In any given year, the number of childbirths in a hospital can be described by an average number. But each birth is independent of the others. \n",
    "\n",
    "Philosophically, this may not be the case. The number of molecular collisions in a gas, or heat dispersion, looks to us from our frame of reference like a random mess. \n",
    "There are phenomena that in the future will turn out not to be so random even though they appear that way. These phenomena make total sense from some other frame of reference. \n",
    "\n",
    "Say we do a Bernoulli trial each minute for an hour for a total of 60 trials. Each trail has a success probability of 10%. The number of successes would be Binomially distributed, and we would expect to get about six successful trials. \n",
    "The Poisson story would be an average of six hits(arrivals) on a website per hour. So, the Poisson distribution with an arrival rate equal to np approximates a Binomial distribution for n Bernoulli trials with probability p of success (with n large and p small). \n",
    "The Poisson distribution is often simpler to work with because it has only one parameter instead of two for the Binomial distribution.\n",
    "\n",
    "In NumPy:\n",
    "numpy.random.poisson(lam=1.0, size=None)\n",
    "Draw samples from a Poisson distribution.\n",
    "\n",
    "numpy.random.binomial(n, p, size=None)\n",
    "Draw samples from a binomial distribution.\n",
    "\n",
    "The Poisson distribution is the limit of the binomial distribution for large N.\n",
    "Ït is used here because it puts rare events into our distribution so there will actually be a difference."
   ]
  },
  {
   "cell_type": "code",
   "execution_count": 77,
   "metadata": {},
   "outputs": [],
   "source": [
    "import pandas as pd # panel data\n",
    "import numpy as np\n",
    "import random as rd\n",
    "from sklearn.decomposition import PCA\n",
    "from sklearn.preprocessing import StandardScaler\n",
    "import matplotlib.pyplot as plt\n",
    "%matplotlib inline\n",
    "np.random.seed(42)\n",
    "plt.style.use('ggplot')"
   ]
  },
  {
   "cell_type": "code",
   "execution_count": 78,
   "metadata": {},
   "outputs": [
    {
     "name": "stdout",
     "output_type": "stream",
     "text": [
      "      natural1 natural2 natural3 natural4 natural5 pertubation1 pertubation2  \\\n",
      "gene1       22       27       18       25       29          146          152   \n",
      "gene2      271      257      277      278      263          102           84   \n",
      "gene3      143      124      103       95      117          447          411   \n",
      "gene4       93       81       97       80       80          722          741   \n",
      "gene5       57       53       69       55       50          669          734   \n",
      "\n",
      "      pertubation3 pertubation4 pertubation5  \n",
      "gene1          156          163          151  \n",
      "gene2           90           91           98  \n",
      "gene3          399          442          438  \n",
      "gene4          668          725          726  \n",
      "gene5          696          711          724  \n"
     ]
    }
   ],
   "source": [
    "genes = ['gene'+str(i) for i in range(1,101,1)]\n",
    "wt= ['natural'+str(i) for i in range(1,6,1)]\n",
    "ko= ['pertubation'+str(i) for i in range(1,6,1)]\n",
    "\n",
    "# The transposed version Data in Scikit Learn here one row is a feature and a column is an obeservation.\n",
    "# Machine learning wants it the other way.\n",
    "df = pd.DataFrame(columns=[*wt,*ko], index = genes) \n",
    "\n",
    "# Making an Array of 5 with values from 10-1000 to populate to dataframe that is currently empty/nan\n",
    "for gene in df.index:\n",
    "    df.loc[gene, 'natural1':'natural5'] = np.random.poisson(rd.randrange(10,1000), size = 5) # size = number of genes\n",
    "    df.loc[gene, 'pertubation1':'pertubation5'] = np.random.poisson(rd.randrange(10,1000), size=5)\n",
    "print(df.head())\n",
    "# Note Gene5 has a very large difference between the classes Natural and Pertubation\n",
    "# The maximum difference would be 10 - 1000 so 55 to 700 is quite close."
   ]
  },
  {
   "cell_type": "code",
   "execution_count": 79,
   "metadata": {},
   "outputs": [],
   "source": [
    "scaler = StandardScaler()\n",
    "# Flip the DataFrame to a Row-Observation style \n",
    "# Scale the data to have a mean of 0 and std of 1\n",
    "# The scaling is done by (x - mean)**2 / number of observations for each value.\n",
    "scaled_data = scaler.fit_transform(df.T) # Also changes the data to Numpy Array\n",
    "# Make Labels and Turn it to a Supervised Machine learning Scenario is possible here"
   ]
  },
  {
   "cell_type": "code",
   "execution_count": 80,
   "metadata": {},
   "outputs": [
    {
     "name": "stdout",
     "output_type": "stream",
     "text": [
      "<class 'numpy.ndarray'>\n"
     ]
    }
   ],
   "source": [
    "print(type(scaled_data))"
   ]
  },
  {
   "cell_type": "code",
   "execution_count": 81,
   "metadata": {},
   "outputs": [
    {
     "name": "stdout",
     "output_type": "stream",
     "text": [
      "                 gene1     gene2     gene3     gene4     gene5\n",
      "natural1     -1.031101  1.016973 -0.823527 -0.976743 -0.998057\n",
      "natural3     -1.092751  1.084846 -1.079083 -0.964070 -0.961183\n",
      "pertubation1  0.880058 -0.894800  1.118694  1.016028  0.882519\n"
     ]
    }
   ],
   "source": [
    "df_scaled = pd.DataFrame(scaled_data, columns=df.index, index=df.columns)\n",
    "print(df_scaled.loc[['natural1','natural3','pertubation1'], 'gene1':'gene5'])"
   ]
  },
  {
   "cell_type": "code",
   "execution_count": 82,
   "metadata": {},
   "outputs": [],
   "source": [
    "pca = PCA()\n",
    "pca.fit(scaled_data) # Loading scores and variation for each component\n",
    "pca_data = pca.transform(scaled_data) # Another Numpy array."
   ]
  },
  {
   "cell_type": "code",
   "execution_count": 83,
   "metadata": {},
   "outputs": [
    {
     "name": "stdout",
     "output_type": "stream",
     "text": [
      "<class 'numpy.ndarray'>\n",
      "10\n"
     ]
    }
   ],
   "source": [
    "print(type(pca_data))\n",
    "print(len(pca_data)) # Standard is 10 components. "
   ]
  },
  {
   "cell_type": "code",
   "execution_count": 84,
   "metadata": {},
   "outputs": [
    {
     "name": "stdout",
     "output_type": "stream",
     "text": [
      "[88.04  2.87  2.35  2.    1.66  1.15  1.03  0.66  0.25  0.  ]\n"
     ]
    }
   ],
   "source": [
    "per_var = np.round(pca.explained_variance_ratio_*100, decimals=2) \n",
    "print(per_var)\n",
    "labels = ['PCA'+str(i) for i in range(1,len(per_var)+1)]"
   ]
  },
  {
   "cell_type": "code",
   "execution_count": 85,
   "metadata": {},
   "outputs": [
    {
     "data": {
      "image/png": "[encoded data removed]",
      "text/plain": [
       "<Figure size 432x288 with 1 Axes>"
      ]
     },
     "metadata": {},
     "output_type": "display_data"
    }
   ],
   "source": [
    "plt.bar(x=labels,height=per_var)\n",
    "plt.ylabel('Variance Explained')\n",
    "plt.title('Variance for each PCA component')\n",
    "plt.show()\n",
    "# Most of the data can be explained by PCA1 if we also use PCA2 we can make a 2D graph to represent the data."
   ]
  },
  {
   "cell_type": "code",
   "execution_count": 86,
   "metadata": {},
   "outputs": [],
   "source": [
    "pca_df = pd.DataFrame(pca_data, columns=labels, index=df.columns)\n",
    "#print(pca_df.head())"
   ]
  },
  {
   "cell_type": "code",
   "execution_count": 87,
   "metadata": {},
   "outputs": [
    {
     "data": {
      "image/png": "[encoded data removed]",
      "text/plain": [
       "<Figure size 432x288 with 1 Axes>"
      ]
     },
     "metadata": {},
     "output_type": "display_data"
    }
   ],
   "source": [
    "plt.scatter(pca_df['PCA1'], pca_df['PCA2'])\n",
    "plt.title('PCA 1&2 Scatterplot')\n",
    "plt.xlabel(f\"PCA 1 Variance {per_var[0]}%\")\n",
    "plt.ylabel(f\"PCA 2 Variance {per_var[1]}%\")\n",
    "for sample in pca_df.index:\n",
    "    plt.annotate(sample[:3],(pca_df.PCA1.loc[sample], pca_df.PCA2.loc[sample]) ) # Text, (positionx,positiony)\n",
    "plt.show()"
   ]
  },
  {
   "cell_type": "markdown",
   "metadata": {},
   "source": [
    "We see that the permuation samples are clustered and correlated on the left and the natural samples on the right. The separation of the clusters means that the types are very different from each other. We saw that in the second and the forth gene in the original data.\n"
   ]
  },
  {
   "cell_type": "code",
   "execution_count": 92,
   "metadata": {},
   "outputs": [
    {
     "name": "stdout",
     "output_type": "stream",
     "text": [
      "gene5     0.106481\n",
      "gene4     0.106466\n",
      "gene63    0.106405\n",
      "gene33   -0.106397\n",
      "gene54    0.106360\n",
      "gene48    0.106359\n",
      "gene30    0.106350\n",
      "gene68   -0.106347\n",
      "gene78    0.106347\n",
      "gene31   -0.106344\n",
      "dtype: float64\n"
     ]
    }
   ],
   "source": [
    "# the loding scores for different genes will show the impact of different genes to separate the samples\n",
    "loading_scores = pd.Series(pca.components_[0], index =genes)\n",
    "#sorted_scores = loading_scores.abs().sort_values(ascending=False)\n",
    "#print(sorted_scores[:10]) The gene names but in absolute scores\n",
    "sorted_loading_scores = loading_scores.abs().sort_values(ascending=False) \n",
    "# Boolean indexing the sorted scores gives the correct loading scores positive or negative.\n",
    "top_10_genes = sorted_loading_scores[0:10].index.values \n",
    "print(loading_scores[top_10_genes])"
   ]
  },
  {
   "cell_type": "code",
   "execution_count": 94,
   "metadata": {},
   "outputs": [
    {
     "name": "stdout",
     "output_type": "stream",
     "text": [
      "gene15    0.015829\n",
      "gene85    0.002999\n",
      "gene97    0.002468\n",
      "dtype: float64\n"
     ]
    }
   ],
   "source": [
    "print(loading_scores[sorted_loading_scores[-3:].index.values])"
   ]
  },
  {
   "cell_type": "markdown",
   "metadata": {},
   "source": [
    "# Conclusions and recommendations\n",
    "We can see that some genes made up a lot of the difference and others made up very little of the difference. PCA1 was quite dominant in explaining variance, and some genes are not very helpful in PCA1.\n",
    "The use of these conclusions? \n",
    "We could for our models, exclude data from the tail-end of our sorted data if we run into a computational load problem. "
   ]
  },
  {
   "cell_type": "code",
   "execution_count": 89,
   "metadata": {},
   "outputs": [],
   "source": [
    "#https://matplotlib.org/3.1.1/gallery/style_sheets/ggplot.html"
   ]
  },
  {
   "cell_type": "code",
   "execution_count": null,
   "metadata": {},
   "outputs": [],
   "source": []
  }
 ],
 "metadata": {
  "kernelspec": {
   "display_name": "Python 3",
   "language": "python",
   "name": "python3"
  },
  "language_info": {
   "codemirror_mode": {
    "name": "ipython",
    "version": 3
   },
   "file_extension": ".py",
   "mimetype": "text/x-python",
   "name": "python",
   "nbconvert_exporter": "python",
   "pygments_lexer": "ipython3",
   "version": "3.8.3"
  }
 },
 "nbformat": 4,
 "nbformat_minor": 4
}
